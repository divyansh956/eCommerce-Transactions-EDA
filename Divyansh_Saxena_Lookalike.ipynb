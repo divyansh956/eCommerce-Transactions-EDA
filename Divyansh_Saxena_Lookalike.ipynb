{
 "cells": [
  {
   "cell_type": "code",
   "execution_count": 1,
   "id": "4cb2c753-056a-45d5-a547-4a2da6e01d49",
   "metadata": {},
   "outputs": [],
   "source": [
    "import pandas as pd\n",
    "from sklearn.metrics.pairwise import cosine_similarity\n",
    "from sklearn.preprocessing import StandardScaler"
   ]
  },
  {
   "cell_type": "code",
   "execution_count": 2,
   "id": "b56bc966-ddd0-4c90-8828-7ceaafcb6f2c",
   "metadata": {},
   "outputs": [],
   "source": [
    "customers = pd.read_csv('Customers.csv')\n",
    "transactions = pd.read_csv('Transactions.csv')\n",
    "products = pd.read_csv('Products.csv')"
   ]
  },
  {
   "cell_type": "code",
   "execution_count": 3,
   "id": "7adcb511-390b-4134-a72e-5d8c0c6c7360",
   "metadata": {},
   "outputs": [],
   "source": [
    "# Create a customer profile based on transaction history\n",
    "transactions['TotalSpend'] = transactions['Price'] * transactions['Quantity']"
   ]
  },
  {
   "cell_type": "code",
   "execution_count": 4,
   "id": "cac4cc8c-4716-4a65-b281-2ce4ec4c0a03",
   "metadata": {},
   "outputs": [
    {
     "name": "stdout",
     "output_type": "stream",
     "text": [
      "    CustomerID  TotalSpend  Quantity\n",
      "0        C0001     3354.52        12\n",
      "1        C0002     1862.74        10\n",
      "2        C0003     2725.38        14\n",
      "3        C0004     5354.88        23\n",
      "4        C0005     2034.24         7\n",
      "..         ...         ...       ...\n",
      "194      C0196     4982.88        12\n",
      "195      C0197     1928.65         9\n",
      "196      C0198      931.83         3\n",
      "197      C0199     1979.28         9\n",
      "198      C0200     4758.60        16\n",
      "\n",
      "[199 rows x 3 columns]\n"
     ]
    }
   ],
   "source": [
    "# Aggregate the transaction data at the customer level\n",
    "customer_features = transactions.groupby('CustomerID').agg({\n",
    "    'TotalSpend': 'sum',\n",
    "    'Quantity': 'sum',\n",
    "}).reset_index()\n",
    "print(customer_features)"
   ]
  },
  {
   "cell_type": "code",
   "execution_count": 5,
   "id": "acc345c2-c76f-4029-b4e2-62543a95df12",
   "metadata": {},
   "outputs": [
    {
     "name": "stdout",
     "output_type": "stream",
     "text": [
      "    TransactionID CustomerID ProductID      TransactionDate  Quantity  \\\n",
      "0          T00001      C0199      P067  2024-08-25 12:38:23         1   \n",
      "1          T00112      C0146      P067  2024-05-27 22:23:54         1   \n",
      "2          T00166      C0127      P067  2024-04-25 07:38:55         1   \n",
      "3          T00272      C0087      P067  2024-03-26 22:55:37         2   \n",
      "4          T00363      C0070      P067  2024-03-21 15:10:10         3   \n",
      "..            ...        ...       ...                  ...       ...   \n",
      "995        T00496      C0118      P037  2024-10-24 08:30:27         1   \n",
      "996        T00759      C0059      P037  2024-06-04 02:15:24         3   \n",
      "997        T00922      C0018      P037  2024-04-05 13:05:32         4   \n",
      "998        T00959      C0115      P037  2024-09-29 10:16:02         2   \n",
      "999        T00992      C0024      P037  2024-04-21 10:52:24         1   \n",
      "\n",
      "     TotalValue   Price  TotalSpend     Category  \n",
      "0        300.68  300.68      300.68  Electronics  \n",
      "1        300.68  300.68      300.68  Electronics  \n",
      "2        300.68  300.68      300.68  Electronics  \n",
      "3        601.36  300.68      601.36  Electronics  \n",
      "4        902.04  300.68      902.04  Electronics  \n",
      "..          ...     ...         ...          ...  \n",
      "995      459.86  459.86      459.86  Electronics  \n",
      "996     1379.58  459.86     1379.58  Electronics  \n",
      "997     1839.44  459.86     1839.44  Electronics  \n",
      "998      919.72  459.86      919.72  Electronics  \n",
      "999      459.86  459.86      459.86  Electronics  \n",
      "\n",
      "[1000 rows x 9 columns]\n"
     ]
    }
   ],
   "source": [
    "# Create a profile of most purchased product categories\n",
    "product_categories = transactions.merge(products[['ProductID', 'Category']], on='ProductID', how='left')\n",
    "print(product_categories)"
   ]
  },
  {
   "cell_type": "code",
   "execution_count": 6,
   "id": "678fb72c-4cf9-4a58-bf28-8da5e95b9fb8",
   "metadata": {},
   "outputs": [
    {
     "name": "stdout",
     "output_type": "stream",
     "text": [
      "Product Category Features:\n",
      "Category    Books  Clothing  Electronics  Home Decor\n",
      "CustomerID                                          \n",
      "C0001           1         0            3           1\n",
      "C0002           0         2            0           2\n",
      "C0003           0         1            1           2\n",
      "C0004           3         0            2           3\n",
      "C0005           0         0            2           1 \n",
      "\n"
     ]
    }
   ],
   "source": [
    "# Aggregate the product categories for each customer\n",
    "category_features = product_categories.groupby('CustomerID')['Category'].value_counts().unstack(fill_value=0)\n",
    "print(\"Product Category Features:\")\n",
    "print(category_features.head(), \"\\n\")"
   ]
  },
  {
   "cell_type": "code",
   "execution_count": 7,
   "id": "3e5866fc-6cb9-445c-adf4-de415e5c440c",
   "metadata": {},
   "outputs": [],
   "source": [
    "# Combine customer features with category features\n",
    "customer_profile = pd.merge(customer_features, category_features, on='CustomerID', how='left').fillna(0)"
   ]
  },
  {
   "cell_type": "code",
   "execution_count": 8,
   "id": "d88399ea-4a16-43ce-8edc-4bc119c72461",
   "metadata": {},
   "outputs": [
    {
     "name": "stdout",
     "output_type": "stream",
     "text": [
      "Product Category Features:\n",
      "  CustomerID  TotalSpend  Quantity  Books  Clothing  Electronics  Home Decor\n",
      "0      C0001     3354.52        12      1         0            3           1\n",
      "1      C0002     1862.74        10      0         2            0           2\n",
      "2      C0003     2725.38        14      0         1            1           2\n",
      "3      C0004     5354.88        23      3         0            2           3\n",
      "4      C0005     2034.24         7      0         0            2           1 \n",
      "\n"
     ]
    }
   ],
   "source": [
    "print(\"Product Category Features:\")\n",
    "print(customer_profile.head(), \"\\n\")"
   ]
  },
  {
   "cell_type": "code",
   "execution_count": 9,
   "id": "4a6fbfaa-a804-41dc-8167-f203935610ab",
   "metadata": {},
   "outputs": [
    {
     "name": "stdout",
     "output_type": "stream",
     "text": [
      "Normalized Customer Profile:\n",
      "[[-0.06170143 -0.12203296 -0.3211125  -1.04160638  1.55087763 -0.22104388]\n",
      " [-0.87774353 -0.44800021 -1.22113205  0.77663634 -1.14846331  0.67666495]\n",
      " [-0.40585722  0.20393428 -1.22113205 -0.13248502 -0.248683    0.67666495]\n",
      " [ 1.03254704  1.67078689  1.47892659 -1.04160638  0.65109731  1.57437379]\n",
      " [-0.78392861 -0.93695108 -1.22113205 -1.04160638  0.65109731 -0.22104388]] \n",
      "\n"
     ]
    }
   ],
   "source": [
    "# Normalize the data using StandardScaler\n",
    "scaler = StandardScaler()\n",
    "customer_profile_scaled = scaler.fit_transform(customer_profile.iloc[:, 1:]) \n",
    "\n",
    "print(\"Normalized Customer Profile:\")\n",
    "print(customer_profile_scaled[:5], \"\\n\")"
   ]
  },
  {
   "cell_type": "code",
   "execution_count": 10,
   "id": "07b564c5-8af0-4f07-8150-ac687cfeb874",
   "metadata": {},
   "outputs": [
    {
     "name": "stdout",
     "output_type": "stream",
     "text": [
      "Cosine Similarity Matrix (First 5 Customers):\n",
      "[[ 1.         -0.53171524 -0.0017398   0.16570297  0.66179897]\n",
      " [-0.53171524  1.          0.72855119 -0.56703123  0.19037039]\n",
      " [-0.0017398   0.72855119  1.         -0.17801532  0.45351359]\n",
      " [ 0.16570297 -0.56703123 -0.17801532  1.         -0.44741565]\n",
      " [ 0.66179897  0.19037039  0.45351359 -0.44741565  1.        ]] \n",
      "\n"
     ]
    }
   ],
   "source": [
    "# Calculate the cosine similarity matrix\n",
    "similarity_matrix = cosine_similarity(customer_profile_scaled)\n",
    "\n",
    "print(\"Cosine Similarity Matrix (First 5 Customers):\")\n",
    "print(similarity_matrix[:5, :5], \"\\n\")"
   ]
  },
  {
   "cell_type": "code",
   "execution_count": 11,
   "id": "8905e723-c4cf-488b-b2cd-0c6803b846ba",
   "metadata": {},
   "outputs": [
    {
     "name": "stdout",
     "output_type": "stream",
     "text": [
      "Lookalike Recommendations for First 20 Customers:\n",
      "Customer C0001:\n",
      "  - Lookalike C0069 with Similarity Score: 0.9444\n",
      "  - Lookalike C0127 with Similarity Score: 0.8946\n",
      "  - Lookalike C0120 with Similarity Score: 0.8430\n",
      "\n",
      "Customer C0002:\n",
      "  - Lookalike C0133 with Similarity Score: 0.9657\n",
      "  - Lookalike C0062 with Similarity Score: 0.9066\n",
      "  - Lookalike C0159 with Similarity Score: 0.8991\n",
      "\n",
      "Customer C0003:\n",
      "  - Lookalike C0166 with Similarity Score: 0.9434\n",
      "  - Lookalike C0031 with Similarity Score: 0.8932\n",
      "  - Lookalike C0106 with Similarity Score: 0.8280\n",
      "\n",
      "Customer C0004:\n",
      "  - Lookalike C0017 with Similarity Score: 0.9231\n",
      "  - Lookalike C0090 with Similarity Score: 0.9211\n",
      "  - Lookalike C0113 with Similarity Score: 0.9195\n",
      "\n",
      "Customer C0005:\n",
      "  - Lookalike C0007 with Similarity Score: 0.9893\n",
      "  - Lookalike C0196 with Similarity Score: 0.9885\n",
      "  - Lookalike C0146 with Similarity Score: 0.9079\n",
      "\n",
      "Customer C0006:\n",
      "  - Lookalike C0135 with Similarity Score: 0.8802\n",
      "  - Lookalike C0186 with Similarity Score: 0.8154\n",
      "  - Lookalike C0171 with Similarity Score: 0.7271\n",
      "\n",
      "Customer C0007:\n",
      "  - Lookalike C0005 with Similarity Score: 0.9893\n",
      "  - Lookalike C0196 with Similarity Score: 0.9813\n",
      "  - Lookalike C0146 with Similarity Score: 0.8944\n",
      "\n",
      "Customer C0008:\n",
      "  - Lookalike C0162 with Similarity Score: 0.9256\n",
      "  - Lookalike C0180 with Similarity Score: 0.8789\n",
      "  - Lookalike C0039 with Similarity Score: 0.8530\n",
      "\n",
      "Customer C0009:\n",
      "  - Lookalike C0197 with Similarity Score: 0.9464\n",
      "  - Lookalike C0058 with Similarity Score: 0.9111\n",
      "  - Lookalike C0033 with Similarity Score: 0.9090\n",
      "\n",
      "Customer C0010:\n",
      "  - Lookalike C0176 with Similarity Score: 0.9432\n",
      "  - Lookalike C0030 with Similarity Score: 0.9191\n",
      "  - Lookalike C0056 with Similarity Score: 0.8827\n",
      "\n",
      "Customer C0011:\n",
      "  - Lookalike C0126 with Similarity Score: 0.9677\n",
      "  - Lookalike C0171 with Similarity Score: 0.9040\n",
      "  - Lookalike C0070 with Similarity Score: 0.8903\n",
      "\n",
      "Customer C0012:\n",
      "  - Lookalike C0065 with Similarity Score: 0.9763\n",
      "  - Lookalike C0136 with Similarity Score: 0.9444\n",
      "  - Lookalike C0104 with Similarity Score: 0.9320\n",
      "\n",
      "Customer C0013:\n",
      "  - Lookalike C0105 with Similarity Score: 0.9442\n",
      "  - Lookalike C0067 with Similarity Score: 0.9429\n",
      "  - Lookalike C0102 with Similarity Score: 0.8437\n",
      "\n",
      "Customer C0014:\n",
      "  - Lookalike C0060 with Similarity Score: 0.9994\n",
      "  - Lookalike C0097 with Similarity Score: 0.9993\n",
      "  - Lookalike C0151 with Similarity Score: 0.9953\n",
      "\n",
      "Customer C0015:\n",
      "  - Lookalike C0123 with Similarity Score: 0.9989\n",
      "  - Lookalike C0097 with Similarity Score: 0.9580\n",
      "  - Lookalike C0014 with Similarity Score: 0.9570\n",
      "\n",
      "Customer C0016:\n",
      "  - Lookalike C0182 with Similarity Score: 0.9797\n",
      "  - Lookalike C0107 with Similarity Score: 0.9762\n",
      "  - Lookalike C0088 with Similarity Score: 0.8455\n",
      "\n",
      "Customer C0017:\n",
      "  - Lookalike C0075 with Similarity Score: 0.9496\n",
      "  - Lookalike C0004 with Similarity Score: 0.9231\n",
      "  - Lookalike C0090 with Similarity Score: 0.9142\n",
      "\n",
      "Customer C0018:\n",
      "  - Lookalike C0057 with Similarity Score: 0.8531\n",
      "  - Lookalike C0068 with Similarity Score: 0.8400\n",
      "  - Lookalike C0023 with Similarity Score: 0.8142\n",
      "\n",
      "Customer C0019:\n",
      "  - Lookalike C0190 with Similarity Score: 0.9662\n",
      "  - Lookalike C0070 with Similarity Score: 0.9074\n",
      "  - Lookalike C0174 with Similarity Score: 0.8817\n",
      "\n",
      "Customer C0020:\n",
      "  - Lookalike C0130 with Similarity Score: 0.9986\n",
      "  - Lookalike C0197 with Similarity Score: 0.9494\n",
      "  - Lookalike C0095 with Similarity Score: 0.9493\n",
      "\n"
     ]
    }
   ],
   "source": [
    "# Create the lookalike dictionary\n",
    "lookalike_dict = {}\n",
    "for i in range(20):  # For the first 20 customers\n",
    "    similar_customers = sorted(\n",
    "        [(j, similarity_matrix[i][j]) for j in range(len(similarity_matrix)) if i != j],\n",
    "        key=lambda x: x[1],\n",
    "        reverse=True\n",
    "    )[:3]  # Get top 3 similar customers\n",
    "    lookalike_dict[customers.iloc[i]['CustomerID']] = [\n",
    "        (customers.iloc[sim[0]]['CustomerID'], sim[1]) for sim in similar_customers\n",
    "    ]\n",
    "\n",
    "print(\"Lookalike Recommendations for First 20 Customers:\")\n",
    "for cust_id, lookalikes in lookalike_dict.items():\n",
    "    print(f\"Customer {cust_id}:\")\n",
    "    for lookalike in lookalikes:\n",
    "        print(f\"  - Lookalike {lookalike[0]} with Similarity Score: {lookalike[1]:.4f}\")\n",
    "    print()"
   ]
  },
  {
   "cell_type": "code",
   "execution_count": 12,
   "id": "419339e7-d006-432e-88e6-4a4f763332c2",
   "metadata": {},
   "outputs": [],
   "source": [
    "lookalike_df = pd.DataFrame([{\n",
    "    'cust_id': cust, \n",
    "    'lookalikes': lookalike_dict[cust]\n",
    "} for cust in lookalike_dict])\n",
    "\n",
    "# Flatten the structure into a more readable form\n",
    "flat_lookalike_df = pd.DataFrame([{\n",
    "    'CustomerID': cust,\n",
    "    'LookalikeCustomerID': lookalike[0],\n",
    "    'SimilarityScore': lookalike[1]\n",
    "} for cust, lookalikes in lookalike_dict.items() for lookalike in lookalikes])"
   ]
  },
  {
   "cell_type": "code",
   "execution_count": 13,
   "id": "7d0a4402-e8d2-458b-b307-71fc4240d31b",
   "metadata": {},
   "outputs": [
    {
     "name": "stdout",
     "output_type": "stream",
     "text": [
      "   CustomerID LookalikeCustomerID  SimilarityScore\n",
      "0       C0001               C0069         0.944377\n",
      "1       C0001               C0127         0.894590\n",
      "2       C0001               C0120         0.842955\n",
      "3       C0002               C0133         0.965708\n",
      "4       C0002               C0062         0.906610\n",
      "5       C0002               C0159         0.899121\n",
      "6       C0003               C0166         0.943362\n",
      "7       C0003               C0031         0.893241\n",
      "8       C0003               C0106         0.828002\n",
      "9       C0004               C0017         0.923063\n",
      "10      C0004               C0090         0.921135\n",
      "11      C0004               C0113         0.919519\n",
      "12      C0005               C0007         0.989294\n",
      "13      C0005               C0196         0.988472\n",
      "14      C0005               C0146         0.907931\n",
      "15      C0006               C0135         0.880172\n",
      "16      C0006               C0186         0.815387\n",
      "17      C0006               C0171         0.727052\n",
      "18      C0007               C0005         0.989294\n",
      "19      C0007               C0196         0.981320\n",
      "20      C0007               C0146         0.894357\n",
      "21      C0008               C0162         0.925648\n",
      "22      C0008               C0180         0.878881\n",
      "23      C0008               C0039         0.853030\n",
      "24      C0009               C0197         0.946371\n",
      "25      C0009               C0058         0.911131\n",
      "26      C0009               C0033         0.908967\n",
      "27      C0010               C0176         0.943182\n",
      "28      C0010               C0030         0.919090\n",
      "29      C0010               C0056         0.882677\n",
      "30      C0011               C0126         0.967657\n",
      "31      C0011               C0171         0.903956\n",
      "32      C0011               C0070         0.890308\n",
      "33      C0012               C0065         0.976304\n",
      "34      C0012               C0136         0.944360\n",
      "35      C0012               C0104         0.932009\n",
      "36      C0013               C0105         0.944246\n",
      "37      C0013               C0067         0.942868\n",
      "38      C0013               C0102         0.843689\n",
      "39      C0014               C0060         0.999438\n",
      "40      C0014               C0097         0.999289\n",
      "41      C0014               C0151         0.995294\n",
      "42      C0015               C0123         0.998886\n",
      "43      C0015               C0097         0.958033\n",
      "44      C0015               C0014         0.957025\n",
      "45      C0016               C0182         0.979718\n",
      "46      C0016               C0107         0.976175\n",
      "47      C0016               C0088         0.845461\n",
      "48      C0017               C0075         0.949611\n",
      "49      C0017               C0004         0.923063\n",
      "50      C0017               C0090         0.914204\n",
      "51      C0018               C0057         0.853110\n",
      "52      C0018               C0068         0.839980\n",
      "53      C0018               C0023         0.814229\n",
      "54      C0019               C0190         0.966207\n",
      "55      C0019               C0070         0.907444\n",
      "56      C0019               C0174         0.881664\n",
      "57      C0020               C0130         0.998562\n",
      "58      C0020               C0197         0.949372\n",
      "59      C0020               C0095         0.949278\n"
     ]
    }
   ],
   "source": [
    "print(flat_lookalike_df)"
   ]
  },
  {
   "cell_type": "code",
   "execution_count": 14,
   "id": "565baa8d-700c-4bf2-9d43-279c8bc1d75a",
   "metadata": {},
   "outputs": [],
   "source": [
    "flat_lookalike_df.to_csv('Divyansh_Saxena_Lookalike.csv', index=False)"
   ]
  },
  {
   "cell_type": "code",
   "execution_count": 15,
   "id": "58a6a69e-1d06-4453-9f72-dc1dcce8d3a3",
   "metadata": {},
   "outputs": [
    {
     "name": "stdout",
     "output_type": "stream",
     "text": [
      "Top 3 Lookalike Recommendations for First 20 Customers: \n",
      "   CustomerID LookalikeCustomerID  SimilarityScore\n",
      "0       C0001               C0069         0.944377\n",
      "1       C0001               C0127         0.894590\n",
      "2       C0001               C0120         0.842955\n",
      "3       C0002               C0133         0.965708\n",
      "4       C0002               C0062         0.906610\n",
      "5       C0002               C0159         0.899121\n",
      "6       C0003               C0166         0.943362\n",
      "7       C0003               C0031         0.893241\n",
      "8       C0003               C0106         0.828002\n",
      "9       C0004               C0017         0.923063\n",
      "10      C0004               C0090         0.921135\n",
      "11      C0004               C0113         0.919519\n",
      "12      C0005               C0007         0.989294\n",
      "13      C0005               C0196         0.988472\n",
      "14      C0005               C0146         0.907931\n",
      "15      C0006               C0135         0.880172\n",
      "16      C0006               C0186         0.815387\n",
      "17      C0006               C0171         0.727052\n",
      "18      C0007               C0005         0.989294\n",
      "19      C0007               C0196         0.981320\n",
      "20      C0007               C0146         0.894357\n",
      "21      C0008               C0162         0.925648\n",
      "22      C0008               C0180         0.878881\n",
      "23      C0008               C0039         0.853030\n",
      "24      C0009               C0197         0.946371\n",
      "25      C0009               C0058         0.911131\n",
      "26      C0009               C0033         0.908967\n",
      "27      C0010               C0176         0.943182\n",
      "28      C0010               C0030         0.919090\n",
      "29      C0010               C0056         0.882677\n",
      "30      C0011               C0126         0.967657\n",
      "31      C0011               C0171         0.903956\n",
      "32      C0011               C0070         0.890308\n",
      "33      C0012               C0065         0.976304\n",
      "34      C0012               C0136         0.944360\n",
      "35      C0012               C0104         0.932009\n",
      "36      C0013               C0105         0.944246\n",
      "37      C0013               C0067         0.942868\n",
      "38      C0013               C0102         0.843689\n",
      "39      C0014               C0060         0.999438\n",
      "40      C0014               C0097         0.999289\n",
      "41      C0014               C0151         0.995294\n",
      "42      C0015               C0123         0.998886\n",
      "43      C0015               C0097         0.958033\n",
      "44      C0015               C0014         0.957025\n",
      "45      C0016               C0182         0.979718\n",
      "46      C0016               C0107         0.976175\n",
      "47      C0016               C0088         0.845461\n",
      "48      C0017               C0075         0.949611\n",
      "49      C0017               C0004         0.923063\n",
      "50      C0017               C0090         0.914204\n",
      "51      C0018               C0057         0.853110\n",
      "52      C0018               C0068         0.839980\n",
      "53      C0018               C0023         0.814229\n",
      "54      C0019               C0190         0.966207\n",
      "55      C0019               C0070         0.907444\n",
      "56      C0019               C0174         0.881664\n",
      "57      C0020               C0130         0.998562\n",
      "58      C0020               C0197         0.949372\n",
      "59      C0020               C0095         0.949278\n"
     ]
    }
   ],
   "source": [
    "print(\"Top 3 Lookalike Recommendations for First 20 Customers: \")\n",
    "print(flat_lookalike_df.head(60))"
   ]
  }
 ],
 "metadata": {
  "kernelspec": {
   "display_name": "Python 3 (ipykernel)",
   "language": "python",
   "name": "python3"
  },
  "language_info": {
   "codemirror_mode": {
    "name": "ipython",
    "version": 3
   },
   "file_extension": ".py",
   "mimetype": "text/x-python",
   "name": "python",
   "nbconvert_exporter": "python",
   "pygments_lexer": "ipython3",
   "version": "3.12.4"
  }
 },
 "nbformat": 4,
 "nbformat_minor": 5
}
